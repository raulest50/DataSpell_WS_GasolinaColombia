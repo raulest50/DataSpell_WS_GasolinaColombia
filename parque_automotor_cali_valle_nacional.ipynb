{
 "cells": [
  {
   "cell_type": "code",
   "execution_count": null,
   "id": "a6c165bd",
   "metadata": {},
   "outputs": [],
   "source": [
    "#!/usr/bin/env python\n",
    "# make sure to install these packages before running:\n",
    "# pip install pandas\n",
    "# pip install sodapy\n",
    "# pip install seaborn\n",
    "\n",
    "import pandas as pd\n",
    "import seaborn as sns\n",
    "import matplotlib.pyplot as plt\n",
    "from sodapy import Socrata\n"
   ]
  },
  {
   "cell_type": "code",
   "execution_count": null,
   "id": "45bdc783",
   "metadata": {},
   "outputs": [],
   "source": [
    "# Descargar datos del RUNT 2.0\n",
    "client = Socrata('www.datos.gov.co', None)\n",
    "results = client.get('u3vn-bdcy', where='anio >= 2023 AND anio <= 2025', limit=500000)\n",
    "df = pd.DataFrame.from_records(results)\n",
    "print('Columnas disponibles:', df.columns.tolist())\n"
   ]
  },
  {
   "cell_type": "code",
   "execution_count": null,
   "id": "139c0c29",
   "metadata": {},
   "outputs": [],
   "source": [
    "# Preparar columnas principales\n",
    "anio_col = next(c for c in df.columns if 'anio' in c.lower())\n",
    "mes_col = next(c for c in df.columns if 'mes' in c.lower())\n",
    "mun_col = next(c for c in df.columns if 'muni' in c.lower())\n",
    "dep_col = next(c for c in df.columns if 'depart' in c.lower())\n",
    "clase_col = next(c for c in df.columns if 'clase' in c.lower())\n",
    "cantidad_col = next((c for c in df.columns if 'cantidad' in c.lower() or 'total' in c.lower()), None)\n",
    "if cantidad_col is None:\n",
    "    raise ValueError('No se encontró columna de cantidad')\n",
    "\n",
    "# Convertir tipos numéricos y fecha\n",
    "for col in [anio_col, mes_col, cantidad_col]:\n",
    "    df[col] = pd.to_numeric(df[col], errors='coerce')\n",
    "\n",
    "df['fecha'] = pd.to_datetime(df[anio_col].astype(int).astype(str) + '-' + df[mes_col].astype(int).astype(str) + '-01')\n",
    "df['quarter'] = df['fecha'].dt.to_period('Q')\n",
    "\n",
    "# Limitar a los tipos de transporte con mayor representatividad\n",
    "clase_top = (df.groupby(clase_col)[cantidad_col]\n",
    "               .sum()\n",
    "               .sort_values(ascending=False)\n",
    "               .head(5)\n",
    "               .index)\n",
    "df = df[df[clase_col].isin(clase_top)]\n",
    "\n",
    "df.head()\n"
   ]
  },
  {
   "cell_type": "code",
   "execution_count": null,
   "id": "9ce7e91d",
   "metadata": {},
   "outputs": [],
   "source": [
    "def plot_scope(df, filter_fn, scope_name):\n",
    "    scope_df = df[filter_fn(df)]\n",
    "    grouped = (scope_df.groupby(['quarter', clase_col])[cantidad_col]\n",
    "                        .sum()\n",
    "                        .reset_index())\n",
    "    grouped['quarter'] = grouped['quarter'].astype(str)\n",
    "    plt.figure(figsize=(12,6))\n",
    "    sns.lineplot(data=grouped, x='quarter', y=cantidad_col, hue=clase_col, marker='o')\n",
    "    plt.title(f'Crecimiento del parque automotor - {scope_name}')\n",
    "    plt.xlabel('Trimestre')\n",
    "    plt.ylabel('Cantidad de vehículos')\n",
    "    plt.xticks(rotation=45)\n",
    "    plt.tight_layout()\n",
    "    plt.show()\n"
   ]
  },
  {
   "cell_type": "code",
   "execution_count": null,
   "id": "8c5aa8f9",
   "metadata": {},
   "outputs": [],
   "source": [
    "# Gráficas para Cali, Valle y nivel nacional\n",
    "plot_scope(df, lambda d: d[mun_col].str.upper().str.contains('CALI'), 'Cali')\n",
    "plot_scope(df, lambda d: d[dep_col].str.upper() == 'VALLE DEL CAUCA', 'Valle del Cauca')\n",
    "plot_scope(df, lambda d: d[mun_col].notna(), 'Colombia')\n"
   ]
  }
 ],
 "metadata": {},
 "nbformat": 4,
 "nbformat_minor": 5
}
